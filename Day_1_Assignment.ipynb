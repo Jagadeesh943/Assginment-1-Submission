{
  "nbformat": 4,
  "nbformat_minor": 0,
  "metadata": {
    "colab": {
      "name": "Day 1 Assignment.ipynb",
      "provenance": [],
      "authorship_tag": "ABX9TyPcQQV93cFblexV3CBhFbg1",
      "include_colab_link": true
    },
    "kernelspec": {
      "name": "python3",
      "display_name": "Python 3"
    }
  },
  "cells": [
    {
      "cell_type": "markdown",
      "metadata": {
        "id": "view-in-github",
        "colab_type": "text"
      },
      "source": [
        "<a href=\"https://colab.research.google.com/github/Jagadeesh943/Assginment-1-Submission/blob/main/Day_1_Assignment.ipynb\" target=\"_parent\"><img src=\"https://colab.research.google.com/assets/colab-badge.svg\" alt=\"Open In Colab\"/></a>"
      ]
    },
    {
      "cell_type": "markdown",
      "metadata": {
        "id": "a1UxYeNsMpyj"
      },
      "source": [
        "**LIST**\r\n",
        "\r\n",
        "\r\n",
        "*   Lists are used to store multiple items in a single variable.\r\n",
        "\r\n",
        "*   Lists are created using square brackets: \r\n",
        "\r\n",
        "\r\n",
        "\r\n"
      ]
    },
    {
      "cell_type": "code",
      "metadata": {
        "colab": {
          "base_uri": "https://localhost:8080/"
        },
        "id": "pJGCrf40M6R-",
        "outputId": "a1e13a14-a370-467f-cae1-a2aa27df4f22"
      },
      "source": [
        "lst = [\"Apple\",\"Orange\",\"Banana\"]\r\n",
        "print(lst)"
      ],
      "execution_count": null,
      "outputs": [
        {
          "output_type": "stream",
          "text": [
            "['Apple', 'Orange', 'Banana']\n"
          ],
          "name": "stdout"
        }
      ]
    },
    {
      "cell_type": "markdown",
      "metadata": {
        "id": "MapQfGzLN0bO"
      },
      "source": [
        "**List Items**\r\n",
        "\r\n",
        "List items are ordered, changeable, and allow duplicate values.\r\n",
        "\r\n",
        "List items are indexed, the first item has index [0], the second item has index [1] etc.\r\n",
        "\r\n",
        "**Ordered**\r\n",
        "\r\n",
        "When we say that lists are ordered, it means that the items have a defined order, and that order will not change.\r\n",
        "\r\n",
        "If you add new items to a list, the new items will be placed at the end of the list."
      ]
    },
    {
      "cell_type": "markdown",
      "metadata": {
        "id": "qYSfepRBOyGg"
      },
      "source": [
        "**TYPE()**"
      ]
    },
    {
      "cell_type": "code",
      "metadata": {
        "colab": {
          "base_uri": "https://localhost:8080/"
        },
        "id": "UhYNHSwLOFtX",
        "outputId": "59a7a580-3ec7-499a-da49-22cc79ba2d48"
      },
      "source": [
        "lst = [\"a\",\"b\",\"c\"]\r\n",
        "print(type(lst))"
      ],
      "execution_count": null,
      "outputs": [
        {
          "output_type": "stream",
          "text": [
            "<class 'list'>\n"
          ],
          "name": "stdout"
        }
      ]
    },
    {
      "cell_type": "markdown",
      "metadata": {
        "id": "N_PV6yDpPBxo"
      },
      "source": [
        "**LIST LENGTH**"
      ]
    },
    {
      "cell_type": "code",
      "metadata": {
        "colab": {
          "base_uri": "https://localhost:8080/"
        },
        "id": "cNYFQkE_PNDA",
        "outputId": "f4005a9b-f7ec-4a9f-97bb-9d0cf0c68b8c"
      },
      "source": [
        "lst = [\"Ravi\",\"Ram\",\"Rajesh\"]\r\n",
        "print(len(lst))"
      ],
      "execution_count": null,
      "outputs": [
        {
          "output_type": "stream",
          "text": [
            "3\n"
          ],
          "name": "stdout"
        }
      ]
    },
    {
      "cell_type": "markdown",
      "metadata": {
        "id": "PnB4a_85PiW-"
      },
      "source": [
        "**LIST ITEMS** : Data Types"
      ]
    },
    {
      "cell_type": "code",
      "metadata": {
        "colab": {
          "base_uri": "https://localhost:8080/"
        },
        "id": "rr2G-nAgPtAB",
        "outputId": "05d012a8-e961-494d-fb0a-e8391d93d627"
      },
      "source": [
        "lst1 = [\"Apple\",\"Banana\",\"Orange\"] #str\r\n",
        "lst2 = [1,2,3]                     #int\r\n",
        "lst3 = [True,False,True]           #bool\r\n",
        "print(lst1)\r\n",
        "print(lst2)\r\n",
        "print(lst3)\r\n"
      ],
      "execution_count": null,
      "outputs": [
        {
          "output_type": "stream",
          "text": [
            "['Apple', 'Banana', 'Orange']\n",
            "[1, 2, 3]\n",
            "[True, False, True]\n"
          ],
          "name": "stdout"
        }
      ]
    },
    {
      "cell_type": "markdown",
      "metadata": {
        "id": "-5x9SgffQqQs"
      },
      "source": [
        "**ACCESS LIST ITEMS**"
      ]
    },
    {
      "cell_type": "code",
      "metadata": {
        "colab": {
          "base_uri": "https://localhost:8080/"
        },
        "id": "ElWm6Z4MQuSh",
        "outputId": "9b9c87b8-349d-4f99-9820-f747d5f42496"
      },
      "source": [
        "lst = [\"Apple\",\"Banana\",\"Orange\"]  #first item has index 0\r\n",
        "print(lst[0])"
      ],
      "execution_count": null,
      "outputs": [
        {
          "output_type": "stream",
          "text": [
            "Apple\n"
          ],
          "name": "stdout"
        }
      ]
    },
    {
      "cell_type": "markdown",
      "metadata": {
        "id": "ZN_10drsRER6"
      },
      "source": [
        "**REVERSE INDEXING** / **NEGATIVE INDEXING**"
      ]
    },
    {
      "cell_type": "code",
      "metadata": {
        "colab": {
          "base_uri": "https://localhost:8080/"
        },
        "id": "FKomxeuMRHVL",
        "outputId": "7f934800-3e02-4f0c-aad6-30565e5ba856"
      },
      "source": [
        "lst = [\"Apple\",\"Banana\",\"Orange\"]  #Negative indexing means start from the end\r\n",
        "\r\n",
        "                                   #-1 refers to the last item, -2 refers to the second last item etc.\r\n",
        "print(lst[-2])                                   "
      ],
      "execution_count": null,
      "outputs": [
        {
          "output_type": "stream",
          "text": [
            "Banana\n"
          ],
          "name": "stdout"
        }
      ]
    },
    {
      "cell_type": "markdown",
      "metadata": {
        "id": "YMlXVh8-R4Ro"
      },
      "source": [
        "**RANGE OF AN INDEX**"
      ]
    },
    {
      "cell_type": "code",
      "metadata": {
        "colab": {
          "base_uri": "https://localhost:8080/"
        },
        "id": "WkPtsXyGR8eo",
        "outputId": "a5a11f5f-125f-4033-85bc-867e92e716c1"
      },
      "source": [
        "lst = [1,2,3,4,5,6,7,8,9] #start at index2 (included) #end at index6 (not included)\r\n",
        "print(lst[2:6])"
      ],
      "execution_count": null,
      "outputs": [
        {
          "output_type": "stream",
          "text": [
            "[3, 4, 5, 6]\n"
          ],
          "name": "stdout"
        }
      ]
    },
    {
      "cell_type": "markdown",
      "metadata": {
        "id": "alY7gOhTS6IK"
      },
      "source": [
        "**APPEND ITEMS**:\r\n",
        "To add an item to the end of the list, use the append() method:"
      ]
    },
    {
      "cell_type": "code",
      "metadata": {
        "colab": {
          "base_uri": "https://localhost:8080/"
        },
        "id": "AGhQ5PapTGTs",
        "outputId": "c4e19689-5a8f-42ae-b091-9aeb5787043d"
      },
      "source": [
        "lst = [1,2,3,4]\r\n",
        "lst.append(\"Apple\")\r\n",
        "print(lst)"
      ],
      "execution_count": null,
      "outputs": [
        {
          "output_type": "stream",
          "text": [
            "[1, 2, 3, 4, 'Apple']\n"
          ],
          "name": "stdout"
        }
      ]
    },
    {
      "cell_type": "markdown",
      "metadata": {
        "id": "tmwRdcQZTVHS"
      },
      "source": [
        "**INSERT ITEMS**\r\n",
        "\r\n",
        "To insert a list item at a specified index, use the insert() method."
      ]
    },
    {
      "cell_type": "code",
      "metadata": {
        "colab": {
          "base_uri": "https://localhost:8080/"
        },
        "id": "ZqrqEJ-sThL8",
        "outputId": "51651323-4be8-488c-9c09-f7d27d91858e"
      },
      "source": [
        "lst = [1,2,3,4,5]\r\n",
        "lst.insert(1,50)\r\n",
        "print(lst)"
      ],
      "execution_count": null,
      "outputs": [
        {
          "output_type": "stream",
          "text": [
            "[1, 50, 2, 3, 4, 5]\n"
          ],
          "name": "stdout"
        }
      ]
    },
    {
      "cell_type": "code",
      "metadata": {
        "colab": {
          "base_uri": "https://localhost:8080/"
        },
        "id": "yMK9U6xUUeQJ",
        "outputId": "d610c0bc-8147-4769-de60-57f71013b027"
      },
      "source": [
        "lst = [1,2,3,4,5]\r\n",
        "lst.remove(2)\r\n",
        "print(lst)"
      ],
      "execution_count": null,
      "outputs": [
        {
          "output_type": "stream",
          "text": [
            "[1, 3, 4, 5]\n"
          ],
          "name": "stdout"
        }
      ]
    },
    {
      "cell_type": "code",
      "metadata": {
        "colab": {
          "base_uri": "https://localhost:8080/"
        },
        "id": "EU7xfKnWUovv",
        "outputId": "47d45042-b794-4de0-9ecd-8c36962a2372"
      },
      "source": [
        "lst = [1,2,3,4,5]\r\n",
        "lst.pop(0)\r\n",
        "print(lst)            #To remove item at particular index : we can use pop(0)"
      ],
      "execution_count": null,
      "outputs": [
        {
          "output_type": "stream",
          "text": [
            "[2, 3, 4, 5]\n"
          ],
          "name": "stdout"
        }
      ]
    },
    {
      "cell_type": "code",
      "metadata": {
        "colab": {
          "base_uri": "https://localhost:8080/"
        },
        "id": "dCkutal5U-5p",
        "outputId": "bb6f4292-1914-4c3d-9e48-2a260922a34a"
      },
      "source": [
        "lst = [1,2,3,4,5]\r\n",
        "lst.pop()\r\n",
        "print(lst)            #pop() : not specified the index value it removes last item in the list"
      ],
      "execution_count": null,
      "outputs": [
        {
          "output_type": "stream",
          "text": [
            "[1, 2, 3, 4]\n"
          ],
          "name": "stdout"
        }
      ]
    },
    {
      "cell_type": "markdown",
      "metadata": {
        "id": "laNGfbI2VVCA"
      },
      "source": [
        "**LOOP LIST**"
      ]
    },
    {
      "cell_type": "code",
      "metadata": {
        "colab": {
          "base_uri": "https://localhost:8080/"
        },
        "id": "VXFOlkYOVX8E",
        "outputId": "9462119e-ab1a-4951-d25d-36791a21a225"
      },
      "source": [
        "lst = [\"Apple\",\"Banana\",\"Orange\"]\r\n",
        "for x in lst :\r\n",
        "  print(x)"
      ],
      "execution_count": null,
      "outputs": [
        {
          "output_type": "stream",
          "text": [
            "Apple\n",
            "Banana\n",
            "Orange\n"
          ],
          "name": "stdout"
        }
      ]
    },
    {
      "cell_type": "code",
      "metadata": {
        "colab": {
          "base_uri": "https://localhost:8080/"
        },
        "id": "pHwztridV-2O",
        "outputId": "4515e4e8-3f34-4c99-90d2-765306709418"
      },
      "source": [
        "lst = [1,2,3,4,5]\r\n",
        "i=0\r\n",
        "while i < len(lst):\r\n",
        "  print(lst[i])\r\n",
        "  i=i+1"
      ],
      "execution_count": null,
      "outputs": [
        {
          "output_type": "stream",
          "text": [
            "1\n",
            "2\n",
            "3\n",
            "4\n",
            "5\n"
          ],
          "name": "stdout"
        }
      ]
    },
    {
      "cell_type": "code",
      "metadata": {
        "colab": {
          "base_uri": "https://localhost:8080/"
        },
        "id": "_BJbEqYNW8Ha",
        "outputId": "3f1c0b30-5085-4b7a-ecb5-337461c5eebe"
      },
      "source": [
        "lst = [1,2,3,4,50]\r\n",
        "lst.sort()\r\n",
        "print(lst)"
      ],
      "execution_count": null,
      "outputs": [
        {
          "output_type": "stream",
          "text": [
            "[1, 2, 3, 4, 50]\n"
          ],
          "name": "stdout"
        }
      ]
    },
    {
      "cell_type": "code",
      "metadata": {
        "colab": {
          "base_uri": "https://localhost:8080/"
        },
        "id": "oI5V6SUOXGaB",
        "outputId": "6933ce1f-6e2e-4e32-fd6e-a7f61f538819"
      },
      "source": [
        "lst = [1,2,3,4,50]\r\n",
        "lst.sort(reverse=True)\r\n",
        "print(lst)"
      ],
      "execution_count": null,
      "outputs": [
        {
          "output_type": "stream",
          "text": [
            "[50, 4, 3, 2, 1]\n"
          ],
          "name": "stdout"
        }
      ]
    },
    {
      "cell_type": "code",
      "metadata": {
        "colab": {
          "base_uri": "https://localhost:8080/"
        },
        "id": "Q_MxGGDsXVGc",
        "outputId": "488d6f48-1c2c-4372-9de1-2b734b0937b4"
      },
      "source": [
        "lst = [1,2,3,]            #coping of a list\r\n",
        "mylst = lst.copy()\r\n",
        "print(mylst)"
      ],
      "execution_count": null,
      "outputs": [
        {
          "output_type": "stream",
          "text": [
            "[1, 2, 3]\n"
          ],
          "name": "stdout"
        }
      ]
    },
    {
      "cell_type": "code",
      "metadata": {
        "colab": {
          "base_uri": "https://localhost:8080/"
        },
        "id": "CQqy0mGdXwWZ",
        "outputId": "dcaf7c72-cd9d-4f82-a999-bbd10c8db1b5"
      },
      "source": [
        "lst1 =[1,2,3]            #adding of lists\r\n",
        "lst2 = [4,5,6]\r\n",
        "lst3 = lst1+lst2\r\n",
        "print(lst3)"
      ],
      "execution_count": null,
      "outputs": [
        {
          "output_type": "stream",
          "text": [
            "[1, 2, 3, 4, 5, 6]\n"
          ],
          "name": "stdout"
        }
      ]
    },
    {
      "cell_type": "code",
      "metadata": {
        "colab": {
          "base_uri": "https://localhost:8080/"
        },
        "id": "E00QEOJ7YATC",
        "outputId": "447a259d-47df-4e0d-a07f-248d5db28262"
      },
      "source": [
        "lst1 = [1,2]\r\n",
        "lst2 = [3]\r\n",
        "lst1.extend(lst2)\r\n",
        "print(lst1)"
      ],
      "execution_count": null,
      "outputs": [
        {
          "output_type": "stream",
          "text": [
            "[1, 2, 3]\n"
          ],
          "name": "stdout"
        }
      ]
    },
    {
      "cell_type": "markdown",
      "metadata": {
        "id": "zL1qQrd7ITia"
      },
      "source": [
        "**DICTIONARY**\r\n",
        "\r\n",
        "Dictionaries are used to store data values in key:value pairs.\r\n",
        "\r\n",
        "A dictionary is a collection which is unordered, changeable and does not allow duplicates.\r\n",
        "\r\n",
        "Dictionaries are written with curly brackets, and have keys and values"
      ]
    },
    {
      "cell_type": "code",
      "metadata": {
        "colab": {
          "base_uri": "https://localhost:8080/"
        },
        "id": "5Jm-OWfUI6qw",
        "outputId": "1c448b35-fbba-4c7c-cf7e-1b3c591b0ed6"
      },
      "source": [
        "dict = {\"brand\":\"ford\",\"model\":\"mustang\",\"year\":1990}\r\n",
        "print(dict)"
      ],
      "execution_count": 2,
      "outputs": [
        {
          "output_type": "stream",
          "text": [
            "{'brand': 'ford', 'model': 'mustang', 'year': 1990}\n"
          ],
          "name": "stdout"
        }
      ]
    },
    {
      "cell_type": "code",
      "metadata": {
        "colab": {
          "base_uri": "https://localhost:8080/"
        },
        "id": "WDoh9jefJW9n",
        "outputId": "f9399267-66b4-4a09-fd42-7103864b14d4"
      },
      "source": [
        "dict = {\"brand\":\"ford\",\"model\":\"mustang\",\"year\":1990}\r\n",
        "print(dict[\"brand\"])"
      ],
      "execution_count": 3,
      "outputs": [
        {
          "output_type": "stream",
          "text": [
            "ford\n"
          ],
          "name": "stdout"
        }
      ]
    },
    {
      "cell_type": "code",
      "metadata": {
        "colab": {
          "base_uri": "https://localhost:8080/"
        },
        "id": "WwycrFfyJtHU",
        "outputId": "534867d6-d987-4988-d22f-52d7d9ea5393"
      },
      "source": [
        "dict = {\"brand\":\"ford\",\"model\":\"mustang\",\"year\":1990}\r\n",
        "print(len(dict))"
      ],
      "execution_count": 4,
      "outputs": [
        {
          "output_type": "stream",
          "text": [
            "3\n"
          ],
          "name": "stdout"
        }
      ]
    },
    {
      "cell_type": "code",
      "metadata": {
        "colab": {
          "base_uri": "https://localhost:8080/"
        },
        "id": "XCGRnqZOJ90b",
        "outputId": "ffb3f427-b56a-4b43-e396-8a9b3edbc361"
      },
      "source": [
        "dict = {\"brand\":\"ford\",\"model\":\"mustang\",\"year\":1990}\r\n",
        "print(type(dict))"
      ],
      "execution_count": 5,
      "outputs": [
        {
          "output_type": "stream",
          "text": [
            "<class 'dict'>\n"
          ],
          "name": "stdout"
        }
      ]
    },
    {
      "cell_type": "code",
      "metadata": {
        "colab": {
          "base_uri": "https://localhost:8080/"
        },
        "id": "InqBIt6WKHlT",
        "outputId": "aff2a79f-f84c-4068-b584-62b640cc57c2"
      },
      "source": [
        "dict = {\"brand\":\"ford\",\"model\":\"mustang\",\"year\":1990}  #accessing an item\r\n",
        "x = dict[\"model\"]\r\n",
        "print(x)"
      ],
      "execution_count": 7,
      "outputs": [
        {
          "output_type": "stream",
          "text": [
            "mustang\n"
          ],
          "name": "stdout"
        }
      ]
    },
    {
      "cell_type": "code",
      "metadata": {
        "colab": {
          "base_uri": "https://localhost:8080/"
        },
        "id": "rxqNBCDZKV6A",
        "outputId": "0616f3fd-5a79-413a-cb40-b2cc2432f9a1"
      },
      "source": [
        "dict = {\"brand\":\"ford\",\"model\":\"mustang\",\"year\":1990}\r\n",
        "x = dict.get(\"model\")\r\n",
        "print(x)"
      ],
      "execution_count": 9,
      "outputs": [
        {
          "output_type": "stream",
          "text": [
            "mustang\n"
          ],
          "name": "stdout"
        }
      ]
    },
    {
      "cell_type": "code",
      "metadata": {
        "colab": {
          "base_uri": "https://localhost:8080/"
        },
        "id": "vO0_A9AGK0OX",
        "outputId": "59192009-760d-4b36-b791-5e681b789935"
      },
      "source": [
        "dict = {\"brand\":\"ford\",\"model\":\"mustang\",\"year\":1990}   #change values\r\n",
        "dict[\"year\"]=2000\r\n",
        "print(dict)"
      ],
      "execution_count": 10,
      "outputs": [
        {
          "output_type": "stream",
          "text": [
            "{'brand': 'ford', 'model': 'mustang', 'year': 2000}\n"
          ],
          "name": "stdout"
        }
      ]
    },
    {
      "cell_type": "code",
      "metadata": {
        "colab": {
          "base_uri": "https://localhost:8080/"
        },
        "id": "WcU-vC0JLFgX",
        "outputId": "5a2ed9f4-82b3-46d4-ede8-6fa26133b3b2"
      },
      "source": [
        "dict = {\"brand\":\"ford\",\"model\":\"mustang\",\"year\":1990}\r\n",
        "dict.update({\"year\":2000})\r\n",
        "print(dict)"
      ],
      "execution_count": 12,
      "outputs": [
        {
          "output_type": "stream",
          "text": [
            "{'brand': 'ford', 'model': 'mustang', 'year': 2000}\n"
          ],
          "name": "stdout"
        }
      ]
    },
    {
      "cell_type": "code",
      "metadata": {
        "colab": {
          "base_uri": "https://localhost:8080/"
        },
        "id": "_gkuZONjLhor",
        "outputId": "1c16219a-59fb-4136-e594-52851e0133fd"
      },
      "source": [
        "dict = {\"brand\":\"ford\",\"model\":\"mustang\",\"year\":1990}   #adding items\r\n",
        "dict[\"color\"]=\"red\"\r\n",
        "print(dict)"
      ],
      "execution_count": 13,
      "outputs": [
        {
          "output_type": "stream",
          "text": [
            "{'brand': 'ford', 'model': 'mustang', 'year': 1990, 'color': 'red'}\n"
          ],
          "name": "stdout"
        }
      ]
    },
    {
      "cell_type": "code",
      "metadata": {
        "colab": {
          "base_uri": "https://localhost:8080/"
        },
        "id": "gi3kp2VNLx9M",
        "outputId": "5ea1f0e1-5283-4154-a3fa-baf5bde0bb86"
      },
      "source": [
        "dict = {\"brand\":\"ford\",\"model\":\"mustang\",\"year\":1990}   #deleting item using pop()\r\n",
        "dict.pop(\"model\")\r\n",
        "print(dict)"
      ],
      "execution_count": 14,
      "outputs": [
        {
          "output_type": "stream",
          "text": [
            "{'brand': 'ford', 'year': 1990}\n"
          ],
          "name": "stdout"
        }
      ]
    },
    {
      "cell_type": "code",
      "metadata": {
        "colab": {
          "base_uri": "https://localhost:8080/"
        },
        "id": "YfHuYO3lMB2j",
        "outputId": "dd527f5a-8116-4775-dbc0-df68ffd21bc4"
      },
      "source": [
        "dict = {\"brand\":\"ford\",\"model\":\"mustang\",\"year\":1990}\r\n",
        "dict.clear()\r\n",
        "print(dict)"
      ],
      "execution_count": 15,
      "outputs": [
        {
          "output_type": "stream",
          "text": [
            "{}\n"
          ],
          "name": "stdout"
        }
      ]
    },
    {
      "cell_type": "code",
      "metadata": {
        "colab": {
          "base_uri": "https://localhost:8080/"
        },
        "id": "0bSFCNG2MUeb",
        "outputId": "345506cb-079f-4ba0-88c0-60c7470e4831"
      },
      "source": [
        "dict = {\"brand\":\"ford\",\"model\":\"mustang\",\"year\":1990}     #loop\r\n",
        "for x in dict:\r\n",
        "  print(x)"
      ],
      "execution_count": 18,
      "outputs": [
        {
          "output_type": "stream",
          "text": [
            "brand\n",
            "model\n",
            "year\n"
          ],
          "name": "stdout"
        }
      ]
    },
    {
      "cell_type": "code",
      "metadata": {
        "colab": {
          "base_uri": "https://localhost:8080/"
        },
        "id": "Hj_Z1J-UMkle",
        "outputId": "b767d978-13c7-47f5-8415-56b38f325f0d"
      },
      "source": [
        "dict = {\"brand\":\"ford\",\"model\":\"mustang\",\"year\":1990}\r\n",
        "for x in dict.values():\r\n",
        "  print(x)"
      ],
      "execution_count": 19,
      "outputs": [
        {
          "output_type": "stream",
          "text": [
            "ford\n",
            "mustang\n",
            "1990\n"
          ],
          "name": "stdout"
        }
      ]
    },
    {
      "cell_type": "code",
      "metadata": {
        "colab": {
          "base_uri": "https://localhost:8080/"
        },
        "id": "TPndJ2XhM2dv",
        "outputId": "2ffb1d8a-c243-46ea-c146-9520289d03fc"
      },
      "source": [
        "dict = {\"brand\":\"ford\",\"model\":\"mustang\",\"year\":1990}   #for both keys and values\r\n",
        "for x,y in dict.items():\r\n",
        "  print(x,y)"
      ],
      "execution_count": 20,
      "outputs": [
        {
          "output_type": "stream",
          "text": [
            "brand ford\n",
            "model mustang\n",
            "year 1990\n"
          ],
          "name": "stdout"
        }
      ]
    },
    {
      "cell_type": "code",
      "metadata": {
        "colab": {
          "base_uri": "https://localhost:8080/"
        },
        "id": "KKgzfC5iNFho",
        "outputId": "50417ee5-9129-49bf-aa21-df56cb0b7620"
      },
      "source": [
        "dict = {\"brand\":\"ford\",\"model\":\"mustang\",\"year\":1990}   #coping items\r\n",
        "dict1=dict.copy()\r\n",
        "print(dict1)"
      ],
      "execution_count": 21,
      "outputs": [
        {
          "output_type": "stream",
          "text": [
            "{'brand': 'ford', 'model': 'mustang', 'year': 1990}\n"
          ],
          "name": "stdout"
        }
      ]
    },
    {
      "cell_type": "code",
      "metadata": {
        "colab": {
          "base_uri": "https://localhost:8080/"
        },
        "id": "cXZ8wwi7NqFQ",
        "outputId": "db16f9d8-549c-4168-a2d4-f902df0d5ba8"
      },
      "source": [
        "child1 = {                                 #nested dictionaries\r\n",
        "  \"name\" : \"Emil\",                      \r\n",
        "  \"year\" : 2004\r\n",
        "}\r\n",
        "child2 = {\r\n",
        "  \"name\" : \"Tobias\",\r\n",
        "  \"year\" : 2007\r\n",
        "}\r\n",
        "child3 = {\r\n",
        "  \"name\" : \"Linus\",\r\n",
        "  \"year\" : 2011\r\n",
        "}\r\n",
        "\r\n",
        "myfamily = {\r\n",
        "  \"child1\" : child1,\r\n",
        "  \"child2\" : child2,\r\n",
        "  \"child3\" : child3\r\n",
        "} \r\n",
        "print(myfamily)"
      ],
      "execution_count": 22,
      "outputs": [
        {
          "output_type": "stream",
          "text": [
            "{'child1': {'name': 'Emil', 'year': 2004}, 'child2': {'name': 'Tobias', 'year': 2007}, 'child3': {'name': 'Linus', 'year': 2011}}\n"
          ],
          "name": "stdout"
        }
      ]
    }
  ]
}